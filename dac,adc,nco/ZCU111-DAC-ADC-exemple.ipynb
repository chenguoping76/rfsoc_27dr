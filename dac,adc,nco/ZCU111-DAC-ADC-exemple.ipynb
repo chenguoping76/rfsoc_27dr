{
 "cells": [
  {
   "cell_type": "code",
   "execution_count": 1,
   "metadata": {},
   "outputs": [],
   "source": [
    "from pynq import allocate\n",
    "from pynq import Overlay\n",
    "import numpy as np\n",
    "import random\n",
    "\n",
    "import xrfclk\n",
    "import xrfdc\n",
    "\n",
    "xrfclk.set_all_ref_clks(409.6)\n",
    "\n",
    "overlay = Overlay('/home/xilinx/pynq/overlays/full/full.bit')"
   ]
  },
  {
   "cell_type": "code",
   "execution_count": 2,
   "metadata": {},
   "outputs": [
    {
     "data": {
      "text/plain": [
       "{'CoarseMixFreq': 16,\n",
       " 'EventSource': 2,\n",
       " 'FineMixerScale': 0,\n",
       " 'Freq': 900.0,\n",
       " 'MixerMode': 1,\n",
       " 'MixerType': 1,\n",
       " 'PhaseOffset': 0.0}"
      ]
     },
     "execution_count": 2,
     "metadata": {},
     "output_type": "execute_result"
    }
   ],
   "source": [
    "#DMA TX\n",
    "dma_read = overlay.TX.axi_dma_tx\n",
    "\n",
    "dac_tile = overlay.usp_rf_data_converter_0.dac_tiles[1]\n",
    "dac_tile.DynamicPLLConfig(1, 409.6, 1228.8)\n",
    "\n",
    "dac_block = dac_tile.blocks[2]\n",
    "\n",
    "event = xrfdc.EVNT_SRC_TILE\n",
    "dac_block.MixerSettings['Freq'] = 900\n",
    "dac_block.MixerSettings['PhaseOffset'] = 0.0\n",
    "dac_block.MixerSettings['EventSource'] = event\n",
    "dac_block.UpdateEvent(event)\n",
    "\n",
    "dac_tile.SetupFIFO(True)\n",
    "\n",
    "dac_block.MixerSettings"
   ]
  },
  {
   "cell_type": "code",
   "execution_count": 3,
   "metadata": {},
   "outputs": [
    {
     "data": {
      "text/plain": [
       "{'CoarseMixFreq': 16,\n",
       " 'EventSource': 2,\n",
       " 'FineMixerScale': 0,\n",
       " 'Freq': 900.0,\n",
       " 'MixerMode': 1,\n",
       " 'MixerType': 1,\n",
       " 'PhaseOffset': 0.0}"
      ]
     },
     "execution_count": 3,
     "metadata": {},
     "output_type": "execute_result"
    }
   ],
   "source": [
    "#DMA RX\n",
    "dma_write = overlay.RX.axi_dma_rx\n",
    "\n",
    "adc_tile = overlay.usp_rf_data_converter_0.adc_tiles[0]\n",
    "adc_tile.DynamicPLLConfig(1, 409.6, 1228.8)\n",
    "\n",
    "adc_block = adc_tile.blocks[0]\n",
    "\n",
    "event = xrfdc.EVNT_SRC_TILE\n",
    "adc_block.MixerSettings['Freq'] = 900\n",
    "adc_block.MixerSettings['PhaseOffset'] = 0.0\n",
    "adc_block.MixerSettings['EventSource'] = event\n",
    "adc_block.UpdateEvent(event)\n",
    "\n",
    "adc_tile.SetupFIFO(True)\n",
    "\n",
    "adc_block.MixerSettings"
   ]
  },
  {
   "cell_type": "code",
   "execution_count": 4,
   "metadata": {},
   "outputs": [],
   "source": [
    "buffer_length = np.power(2,20)\n",
    "\n",
    "input_buffer = allocate(shape=(buffer_length,), dtype= np.float64)\n",
    "output_buffer = allocate(shape=(buffer_length,), dtype= np.float64)"
   ]
  },
  {
   "cell_type": "code",
   "execution_count": 5,
   "metadata": {},
   "outputs": [
    {
     "data": {
      "text/plain": [
       "PynqBuffer([ 12.36255751,  14.11770425,  35.22684284, ...,   0.41664748,\n",
       "              6.82050815,  90.61916154])"
      ]
     },
     "execution_count": 5,
     "metadata": {},
     "output_type": "execute_result"
    }
   ],
   "source": [
    "for i in range(buffer_length):\n",
    "   input_buffer[i] = random.random()*100\n",
    "\n",
    "input_buffer"
   ]
  },
  {
   "cell_type": "code",
   "execution_count": 6,
   "metadata": {},
   "outputs": [
    {
     "data": {
      "text/plain": [
       "PynqBuffer([ 0.,  0.,  0., ...,  0.,  0.,  0.])"
      ]
     },
     "execution_count": 6,
     "metadata": {},
     "output_type": "execute_result"
    }
   ],
   "source": [
    "dma_read.sendchannel.transfer(input_buffer)\n",
    "dma_write.recvchannel.transfer(output_buffer)\n",
    "dma_read.sendchannel.wait()\n",
    "dma_write.recvchannel.wait()\n",
    "\n",
    "output_buffer"
   ]
  }
 ],
 "metadata": {
  "kernelspec": {
   "display_name": "Python 3",
   "language": "python",
   "name": "python3"
  },
  "language_info": {
   "codemirror_mode": {
    "name": "ipython",
    "version": 3
   },
   "file_extension": ".py",
   "mimetype": "text/x-python",
   "name": "python",
   "nbconvert_exporter": "python",
   "pygments_lexer": "ipython3",
   "version": "3.6.5"
  }
 },
 "nbformat": 4,
 "nbformat_minor": 4
}
