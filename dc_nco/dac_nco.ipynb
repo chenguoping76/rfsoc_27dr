{
 "cells": [
  {
   "cell_type": "markdown",
   "id": "d4b8af55-0108-470a-a3e1-53e17d48efa9",
   "metadata": {},
   "source": [
    "# 演示直接控制DC nco 产生单频正弦波"
   ]
  },
  {
   "cell_type": "markdown",
   "id": "be491e71-5022-4fef-96a9-2114aab231d8",
   "metadata": {},
   "source": [
    "## xrfdc 必须先于Overlay引入\n",
    "## 如果overlay不是2020.2 开发，则需要在Overlay('dc_nco/nco.bit')时调整为Overlay('dc_nco/nco.bit'，ignore_version=True)"
   ]
  },
  {
   "cell_type": "markdown",
   "id": "4aca36e9-3241-4213-8150-1fd23ef6877c",
   "metadata": {},
   "source": [
    "## 此案例使用DAC0 输出受控NCO 单频正弦波"
   ]
  },
  {
   "cell_type": "code",
   "execution_count": 1,
   "id": "6245ac55-54ce-4dbb-9ff0-bdcc21ea2092",
   "metadata": {},
   "outputs": [],
   "source": [
    "import xrfdc"
   ]
  },
  {
   "cell_type": "code",
   "execution_count": 2,
   "id": "ea2179f7-daa8-42c8-9637-917cdb17b7e5",
   "metadata": {},
   "outputs": [],
   "source": [
    "from pynq import Overlay, clocks"
   ]
  },
  {
   "cell_type": "code",
   "execution_count": 3,
   "id": "580b2989-8928-4b80-860e-2aa65b13410d",
   "metadata": {},
   "outputs": [
    {
     "data": {
      "application/javascript": [
       "\n",
       "try {\n",
       "require(['notebook/js/codecell'], function(codecell) {\n",
       "  codecell.CodeCell.options_default.highlight_modes[\n",
       "      'magic_text/x-csrc'] = {'reg':[/^%%microblaze/]};\n",
       "  Jupyter.notebook.events.one('kernel_ready.Kernel', function(){\n",
       "      Jupyter.notebook.get_cells().map(function(cell){\n",
       "          if (cell.cell_type == 'code'){ cell.auto_highlight(); } }) ;\n",
       "  });\n",
       "});\n",
       "} catch (e) {};\n"
      ]
     },
     "metadata": {},
     "output_type": "display_data"
    },
    {
     "data": {
      "application/javascript": [
       "\n",
       "try {\n",
       "require(['notebook/js/codecell'], function(codecell) {\n",
       "  codecell.CodeCell.options_default.highlight_modes[\n",
       "      'magic_text/x-csrc'] = {'reg':[/^%%pybind11/]};\n",
       "  Jupyter.notebook.events.one('kernel_ready.Kernel', function(){\n",
       "      Jupyter.notebook.get_cells().map(function(cell){\n",
       "          if (cell.cell_type == 'code'){ cell.auto_highlight(); } }) ;\n",
       "  });\n",
       "});\n",
       "} catch (e) {};\n"
      ]
     },
     "metadata": {},
     "output_type": "display_data"
    }
   ],
   "source": [
    "ol = Overlay('dc_nco/nco.bit')"
   ]
  },
  {
   "cell_type": "code",
   "execution_count": 5,
   "id": "965f68ae-bb5d-4238-88d1-41aaa71c714c",
   "metadata": {},
   "outputs": [],
   "source": [
    "import xrfclk"
   ]
  },
  {
   "cell_type": "markdown",
   "id": "b4a4ac8f-c3b4-4143-ac62-03cff1c34679",
   "metadata": {},
   "source": [
    "## 按vivado设计使用250MHz外部射频时钟"
   ]
  },
  {
   "cell_type": "code",
   "execution_count": 6,
   "id": "f08c137e-713b-4bf1-a619-bfb0453b2457",
   "metadata": {},
   "outputs": [],
   "source": [
    "clocks.set_custom_lmclks()"
   ]
  },
  {
   "cell_type": "code",
   "execution_count": 7,
   "id": "ade25cff-5236-421c-873f-70a13cf6ebae",
   "metadata": {},
   "outputs": [],
   "source": [
    "rf = ol.usp_rf_data_converter_0"
   ]
  },
  {
   "cell_type": "code",
   "execution_count": 13,
   "id": "c847efca-360c-4d10-95fe-35b7c434b20f",
   "metadata": {},
   "outputs": [],
   "source": [
    "dac_tile = rf.dac_tiles[0]"
   ]
  },
  {
   "cell_type": "code",
   "execution_count": 14,
   "id": "ab4759dd-b4e8-453c-9cd4-15bfa7629b7a",
   "metadata": {},
   "outputs": [],
   "source": [
    "dac_block = dac_tile.blocks[0]"
   ]
  },
  {
   "cell_type": "code",
   "execution_count": 15,
   "id": "b275d5c5-9506-4d5f-b913-50e8940a8afd",
   "metadata": {},
   "outputs": [],
   "source": [
    "dac_block.MixerSettings = {\n",
    "    'CoarseMixFreq':  xrfdc.COARSE_MIX_BYPASS,\n",
    "    'EventSource':    xrfdc.EVNT_SRC_IMMEDIATE,\n",
    "    'FineMixerScale': xrfdc.MIXER_SCALE_1P0,\n",
    "    'Freq':           1000,\n",
    "    'MixerMode':      xrfdc.MIXER_MODE_C2R,\n",
    "    'MixerType':      xrfdc.MIXER_TYPE_FINE,\n",
    "    'PhaseOffset':    0.0\n",
    "    }"
   ]
  },
  {
   "cell_type": "code",
   "execution_count": 16,
   "id": "058cfc3e-0a83-4b7b-9ec7-ac1cf0025c34",
   "metadata": {},
   "outputs": [],
   "source": [
    "dac_block.UpdateEvent(xrfdc.EVENT_MIXER)"
   ]
  },
  {
   "cell_type": "code",
   "execution_count": null,
   "id": "6648d9fe-d881-4e91-98b3-da36660c8565",
   "metadata": {},
   "outputs": [],
   "source": []
  }
 ],
 "metadata": {
  "kernelspec": {
   "display_name": "Python 3 (ipykernel)",
   "language": "python",
   "name": "python3"
  },
  "language_info": {
   "codemirror_mode": {
    "name": "ipython",
    "version": 3
   },
   "file_extension": ".py",
   "mimetype": "text/x-python",
   "name": "python",
   "nbconvert_exporter": "python",
   "pygments_lexer": "ipython3",
   "version": "3.10.4"
  }
 },
 "nbformat": 4,
 "nbformat_minor": 5
}
