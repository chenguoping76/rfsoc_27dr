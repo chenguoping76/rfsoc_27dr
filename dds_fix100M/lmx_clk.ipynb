{
 "cells": [
  {
   "cell_type": "markdown",
   "id": "01ed35fa-777a-42d9-a040-4cf44f6fcb85",
   "metadata": {},
   "source": [
    "# 配置DC输出固定100MHz 正弦波\n",
    "## DDS 实现\n",
    "## 固定模式"
   ]
  },
  {
   "cell_type": "code",
   "execution_count": 1,
   "id": "229770bf-38b7-4f65-b9ac-4a2c89a0e3cf",
   "metadata": {},
   "outputs": [],
   "source": [
    "import xrfdc"
   ]
  },
  {
   "cell_type": "code",
   "execution_count": 2,
   "id": "43f70e1c-ba01-40f7-be34-35caa35e8c24",
   "metadata": {},
   "outputs": [],
   "source": [
    "from pynq import Overlay"
   ]
  },
  {
   "cell_type": "code",
   "execution_count": 3,
   "id": "14c97d9a-bfb9-41c4-ad48-5fc2d4d27c0d",
   "metadata": {},
   "outputs": [
    {
     "data": {
      "application/javascript": [
       "\n",
       "try {\n",
       "require(['notebook/js/codecell'], function(codecell) {\n",
       "  codecell.CodeCell.options_default.highlight_modes[\n",
       "      'magic_text/x-csrc'] = {'reg':[/^%%microblaze/]};\n",
       "  Jupyter.notebook.events.one('kernel_ready.Kernel', function(){\n",
       "      Jupyter.notebook.get_cells().map(function(cell){\n",
       "          if (cell.cell_type == 'code'){ cell.auto_highlight(); } }) ;\n",
       "  });\n",
       "});\n",
       "} catch (e) {};\n"
      ]
     },
     "metadata": {},
     "output_type": "display_data"
    },
    {
     "data": {
      "application/javascript": [
       "\n",
       "try {\n",
       "require(['notebook/js/codecell'], function(codecell) {\n",
       "  codecell.CodeCell.options_default.highlight_modes[\n",
       "      'magic_text/x-csrc'] = {'reg':[/^%%pybind11/]};\n",
       "  Jupyter.notebook.events.one('kernel_ready.Kernel', function(){\n",
       "      Jupyter.notebook.get_cells().map(function(cell){\n",
       "          if (cell.cell_type == 'code'){ cell.auto_highlight(); } }) ;\n",
       "  });\n",
       "});\n",
       "} catch (e) {};\n"
      ]
     },
     "metadata": {},
     "output_type": "display_data"
    }
   ],
   "source": [
    "ol = Overlay('dds_fix/dds_fix100M.bit')"
   ]
  },
  {
   "cell_type": "markdown",
   "id": "e30bbadf-e87e-42fe-b29d-303879b1cc4f",
   "metadata": {},
   "source": [
    "## 27dr 是gen 1, 使用2 tiles (228, 229), 4 blocks (pair01, pair23)"
   ]
  },
  {
   "cell_type": "markdown",
   "id": "faa3032a-8b65-4418-a7f4-cfdd09cb7f71",
   "metadata": {},
   "source": [
    "### dc 时钟配置如下图"
   ]
  },
  {
   "cell_type": "code",
   "execution_count": 4,
   "id": "c43609f2-994a-46e3-b6ea-a3e288834cc8",
   "metadata": {},
   "outputs": [],
   "source": [
    "dac_tile = ol.usp_rf_data_converter_0.dac_tiles[1]\n",
    "dac_tile.DynamicPLLConfig(1,409.6, 1228.8)"
   ]
  },
  {
   "cell_type": "code",
   "execution_count": null,
   "id": "4f7ede18-e646-4210-97bf-dbbe2be6e28c",
   "metadata": {},
   "outputs": [],
   "source": []
  },
  {
   "cell_type": "code",
   "execution_count": 5,
   "id": "fd71c826-baad-4a5d-a99c-313d76344a9e",
   "metadata": {},
   "outputs": [],
   "source": [
    "import xrfclk"
   ]
  },
  {
   "cell_type": "code",
   "execution_count": 6,
   "id": "84326a5b-d6d4-4002-acc5-ddd608166a0b",
   "metadata": {
    "tags": []
   },
   "outputs": [],
   "source": [
    "xrfclk.set_all_ref_clks(409.6)"
   ]
  },
  {
   "cell_type": "code",
   "execution_count": 7,
   "id": "cd9c11bf-8646-4062-850d-42db9196e186",
   "metadata": {},
   "outputs": [],
   "source": [
    "dac_tile.StartUp()"
   ]
  }
 ],
 "metadata": {
  "kernelspec": {
   "display_name": "Python 3 (ipykernel)",
   "language": "python",
   "name": "python3"
  },
  "language_info": {
   "codemirror_mode": {
    "name": "ipython",
    "version": 3
   },
   "file_extension": ".py",
   "mimetype": "text/x-python",
   "name": "python",
   "nbconvert_exporter": "python",
   "pygments_lexer": "ipython3",
   "version": "3.10.4"
  }
 },
 "nbformat": 4,
 "nbformat_minor": 5
}
