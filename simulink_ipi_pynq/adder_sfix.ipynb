{
 "cells": [
  {
   "cell_type": "code",
   "execution_count": 1,
   "id": "e3903465-1358-4096-a409-feb3e40a7f47",
   "metadata": {},
   "outputs": [],
   "source": [
    "import numpy as np"
   ]
  },
  {
   "cell_type": "code",
   "execution_count": 2,
   "id": "330de1fd-8d2e-4f18-aa63-f62adc63c44b",
   "metadata": {},
   "outputs": [],
   "source": [
    "def convert(a, total_bits, frac_bits): \n",
    "    mask1 = 1 << (total_bits - 1) \n",
    "    mask2 = mask1 - 1 \n",
    "    return ((a & mask2) - (a & mask1)) / (1 << frac_bits)"
   ]
  },
  {
   "cell_type": "code",
   "execution_count": 95,
   "id": "8caa15e2-1557-487a-93f5-f2a1467ccb5d",
   "metadata": {},
   "outputs": [
    {
     "data": {
      "text/plain": [
       "-51"
      ]
     },
     "execution_count": 95,
     "metadata": {},
     "output_type": "execute_result"
    }
   ],
   "source": [
    "fixed_a = np.ndarray(1, 'i4') #i4 为int(4*32)\n",
    "float_a = np.float32(-3.2)\n",
    "frac_bits = 4\n",
    "intergal_bits = 4\n",
    "if (frac_bits+intergal_bits) < 7:\n",
    "    print(\"increase intergal_bits\")\n",
    "# 将小数部分扩大2^n倍(2^7 = 128)，那么后面由Int32转换回fixed point时，小数位必须等于n\n",
    "# 测试后frac_bits = [1...8],大于8会使int(float_a * (2**frac_bits)) 溢出，则应使用更大的np.ndarray(1, 'i8')\n",
    "fixed_a = np.int32(float_a * (2**frac_bits)) # 更大的转换为np.int64"
   ]
  },
  {
   "cell_type": "code",
   "execution_count": 96,
   "id": "e1bff466-33e4-47d2-ba50-2931d565c745",
   "metadata": {},
   "outputs": [
    {
     "data": {
      "text/plain": [
       "-3.1875"
      ]
     },
     "execution_count": 96,
     "metadata": {},
     "output_type": "execute_result"
    }
   ],
   "source": [
    "# total_bits - frac_bits > 3,如frac_bits = 4, 则total_bits 最小为7\n",
    "# 小数部分n=2^n = cell 3 的m = 256\n",
    "convert(fixed_a, (frac_bits+intergal_bits), frac_bits)"
   ]
  },
  {
   "cell_type": "code",
   "execution_count": null,
   "id": "0a9eb41b-0365-4db1-a219-7d495cdf32d4",
   "metadata": {},
   "outputs": [],
   "source": []
  },
  {
   "cell_type": "code",
   "execution_count": null,
   "id": "b0efa5f3-8eca-492b-9754-b76d6706486d",
   "metadata": {},
   "outputs": [],
   "source": []
  }
 ],
 "metadata": {
  "kernelspec": {
   "display_name": "Python 3 (ipykernel)",
   "language": "python",
   "name": "python3"
  },
  "language_info": {
   "codemirror_mode": {
    "name": "ipython",
    "version": 3
   },
   "file_extension": ".py",
   "mimetype": "text/x-python",
   "name": "python",
   "nbconvert_exporter": "python",
   "pygments_lexer": "ipython3",
   "version": "3.10.4"
  }
 },
 "nbformat": 4,
 "nbformat_minor": 5
}
