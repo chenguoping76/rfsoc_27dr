{
 "cells": [
  {
   "cell_type": "code",
   "execution_count": 1,
   "id": "e3903465-1358-4096-a409-feb3e40a7f47",
   "metadata": {},
   "outputs": [],
   "source": [
    "import numpy as np"
   ]
  },
  {
   "cell_type": "code",
   "execution_count": 2,
   "id": "330de1fd-8d2e-4f18-aa63-f62adc63c44b",
   "metadata": {},
   "outputs": [],
   "source": [
    "def convert(a, total_bits, frac_bits): \n",
    "    mask1 = 1 << (total_bits - 1) \n",
    "    mask2 = mask1 - 1 \n",
    "    return ((a & mask2) - (a & mask1)) / (1 << frac_bits)"
   ]
  },
  {
   "cell_type": "markdown",
   "id": "aec2a48d-433a-4379-90a7-1465dd43c18e",
   "metadata": {},
   "source": [
    "int32测试"
   ]
  },
  {
   "cell_type": "code",
   "execution_count": 49,
   "id": "8caa15e2-1557-487a-93f5-f2a1467ccb5d",
   "metadata": {},
   "outputs": [],
   "source": [
    "fixed_a = np.ndarray(1, 'i4')          #i4 为int(4*32)\n",
    "float_result = np.ndarray(1,'f4')\n",
    "float_a = np.float32(-3.2)\n",
    "frac_bits = 29                         # 最大值32-3 = 29\n",
    "intergal_bits = 64                     # 最小值3\n",
    "if (frac_bits+intergal_bits) < 7:\n",
    "    print(\"increase intergal_bits\")\n",
    "# 将小数部分扩大2^n倍(2^7 = 128)，那么后面由Int32转换回fixed point时，小数位必须等于n\n",
    "# 测试后frac_bits = [1...8],大于8会使int(float_a * (2**frac_bits)) 溢出，则应使用更大的np.ndarray(1, 'i8')\n",
    "fixed_a = np.int32(float_a * (2**frac_bits)) # 更大的转换为np.int64"
   ]
  },
  {
   "cell_type": "code",
   "execution_count": 50,
   "id": "e1bff466-33e4-47d2-ba50-2931d565c745",
   "metadata": {},
   "outputs": [
    {
     "data": {
      "text/plain": [
       "-3.200000047683716"
      ]
     },
     "execution_count": 50,
     "metadata": {},
     "output_type": "execute_result"
    }
   ],
   "source": [
    "# total_bits - frac_bits > 3,如frac_bits = 4, 则total_bits 最小为7\n",
    "# 小数部分n=2^n = cell 3 的m = 256\n",
    "float_result = convert(fixed_a, (frac_bits+intergal_bits), frac_bits)\n",
    "float_result"
   ]
  },
  {
   "cell_type": "markdown",
   "id": "aa257299-fee6-4013-b66e-d62a109d1ef8",
   "metadata": {},
   "source": [
    "int64测试"
   ]
  },
  {
   "cell_type": "code",
   "execution_count": 53,
   "id": "c7a3edea-187d-4e2c-8a02-207ae8d750ff",
   "metadata": {},
   "outputs": [],
   "source": [
    "fixed_a = np.ndarray(1, 'i8')          #i8 为int(8*32)\n",
    "float_result = np.ndarray(1,'f8')\n",
    "float_a = np.float64(-3.2)\n",
    "frac_bits = 60                         # 最大值64 - 4\n",
    "intergal_bits = 3                      # 最小值3\n",
    "if (frac_bits+intergal_bits) < 7:\n",
    "    print(\"increase intergal_bits\")\n",
    "# 将小数部分扩大2^n倍(2^7 = 128)，那么后面由Int32转换回fixed point时，小数位必须等于n\n",
    "# 测试后frac_bits = [1...8],大于8会使int(float_a * (2**frac_bits)) 溢出，则应使用更大的np.ndarray(1, 'i8')\n",
    "fixed_a = np.int64(float_a * (2**frac_bits)) # 更大的转换为np.int64"
   ]
  },
  {
   "cell_type": "code",
   "execution_count": 54,
   "id": "73e5a792-a974-4b39-a8d4-1ec213269333",
   "metadata": {},
   "outputs": [
    {
     "data": {
      "text/plain": [
       "-3.2"
      ]
     },
     "execution_count": 54,
     "metadata": {},
     "output_type": "execute_result"
    }
   ],
   "source": [
    "float_result = convert(fixed_a, (frac_bits+intergal_bits), frac_bits)\n",
    "float_result"
   ]
  }
 ],
 "metadata": {
  "kernelspec": {
   "display_name": "Python 3 (ipykernel)",
   "language": "python",
   "name": "python3"
  },
  "language_info": {
   "codemirror_mode": {
    "name": "ipython",
    "version": 3
   },
   "file_extension": ".py",
   "mimetype": "text/x-python",
   "name": "python",
   "nbconvert_exporter": "python",
   "pygments_lexer": "ipython3",
   "version": "3.10.4"
  }
 },
 "nbformat": 4,
 "nbformat_minor": 5
}
