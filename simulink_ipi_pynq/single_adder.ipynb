{
 "cells": [
  {
   "cell_type": "markdown",
   "id": "b62e44ec-c12d-4da8-b7ed-8feeba828ea7",
   "metadata": {},
   "source": [
    "### 演示使用pynq使用simulink 单精度浮点数IP (加法器)\n",
    "#### 模型使用adder_single.slx\n",
    "#### hdlcoder advisor flow, 使用zcu102板参考"
   ]
  },
  {
   "cell_type": "code",
   "execution_count": 1,
   "id": "8b280a2e-618f-4a75-9a3c-7f56936441be",
   "metadata": {},
   "outputs": [],
   "source": [
    "# 增加python 目录，方便使用我们自己的软件中间件\n",
    "import sys\n",
    "sys.path.append('/home/xilinx/jupyter_notebooks/simulink_sfix_u/')"
   ]
  },
  {
   "cell_type": "code",
   "execution_count": 2,
   "id": "6dbed16c-e1a4-4960-b588-00acfd586fe1",
   "metadata": {},
   "outputs": [
    {
     "data": {
      "application/javascript": [
       "\n",
       "try {\n",
       "require(['notebook/js/codecell'], function(codecell) {\n",
       "  codecell.CodeCell.options_default.highlight_modes[\n",
       "      'magic_text/x-csrc'] = {'reg':[/^%%microblaze/]};\n",
       "  Jupyter.notebook.events.one('kernel_ready.Kernel', function(){\n",
       "      Jupyter.notebook.get_cells().map(function(cell){\n",
       "          if (cell.cell_type == 'code'){ cell.auto_highlight(); } }) ;\n",
       "  });\n",
       "});\n",
       "} catch (e) {};\n"
      ]
     },
     "metadata": {},
     "output_type": "display_data"
    },
    {
     "data": {
      "application/javascript": [
       "\n",
       "try {\n",
       "require(['notebook/js/codecell'], function(codecell) {\n",
       "  codecell.CodeCell.options_default.highlight_modes[\n",
       "      'magic_text/x-csrc'] = {'reg':[/^%%pybind11/]};\n",
       "  Jupyter.notebook.events.one('kernel_ready.Kernel', function(){\n",
       "      Jupyter.notebook.get_cells().map(function(cell){\n",
       "          if (cell.cell_type == 'code'){ cell.auto_highlight(); } }) ;\n",
       "  });\n",
       "});\n",
       "} catch (e) {};\n"
      ]
     },
     "metadata": {},
     "output_type": "display_data"
    }
   ],
   "source": [
    "from pynq import Overlay\n",
    "ol = Overlay('./overlay/single_adder.bit')"
   ]
  },
  {
   "cell_type": "code",
   "execution_count": 3,
   "id": "e7d0a07a-b1c7-4894-8f77-fbbbed68f5cb",
   "metadata": {},
   "outputs": [],
   "source": [
    "# ol.ip_dict"
   ]
  },
  {
   "cell_type": "code",
   "execution_count": 4,
   "id": "e654c093-3808-4d95-a7a6-da9c8ec8c0d0",
   "metadata": {},
   "outputs": [],
   "source": [
    "from pynq import MMIO\n",
    "simulink_adder = MMIO(ol.ip_dict['simulink_adder_0']['phys_addr'], ol.ip_dict['simulink_adder_0']['addr_range'])"
   ]
  },
  {
   "cell_type": "code",
   "execution_count": 5,
   "id": "418562b0-013a-470a-8afb-beb8f6b850ba",
   "metadata": {},
   "outputs": [
    {
     "data": {
      "text/plain": [
       "5.0"
      ]
     },
     "execution_count": 5,
     "metadata": {},
     "output_type": "execute_result"
    }
   ],
   "source": [
    "import struct\n",
    "a = 2.0\n",
    "b = 3.0\n",
    "\n",
    "simulink_adder.write(0x100, struct.unpack('I', struct.pack('f', a))[0])\n",
    "simulink_adder.write(0x104, struct.unpack('I', struct.pack('f', b))[0])\n",
    "c = struct.unpack('f', struct.pack('I', simulink_adder.read(0x108)))[0]\n",
    "c"
   ]
  },
  {
   "cell_type": "markdown",
   "id": "cf2c1162-108c-41ca-aabb-d6624d1bd106",
   "metadata": {},
   "source": [
    "#### double情况     \n",
    "如果simulink使用double 数据类型      \n",
    "使用下述代码\n",
    "\n",
    "a = 2.0\n",
    "b = 3.0\n",
    "\n",
    "simulink_adder.write(0x100, struct.unpack('Q', struct.pack('d', a))[0])\n",
    "simulink_adder.write(0x104, struct.unpack('Q', struct.pack('d', b))[0])\n",
    "c = struct.unpack('d', struct.pack('Q', simulink_adder.read(0x108)))[0]\n",
    "c"
   ]
  }
 ],
 "metadata": {
  "kernelspec": {
   "display_name": "Python 3 (ipykernel)",
   "language": "python",
   "name": "python3"
  },
  "language_info": {
   "codemirror_mode": {
    "name": "ipython",
    "version": 3
   },
   "file_extension": ".py",
   "mimetype": "text/x-python",
   "name": "python",
   "nbconvert_exporter": "python",
   "pygments_lexer": "ipython3",
   "version": "3.10.4"
  }
 },
 "nbformat": 4,
 "nbformat_minor": 5
}
