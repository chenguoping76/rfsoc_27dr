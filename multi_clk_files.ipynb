{
 "cells": [
  {
   "attachments": {
    "37a614f5-6632-4af0-8f23-63a5e33c9bf3.png": {
     "image/png": "[encoded data removed]"
    }
   },
   "cell_type": "markdown",
   "id": "9a733f76-0866-49df-907b-181bea77c22a",
   "metadata": {},
   "source": [
    "# 读取和配置最大3个lmx不同时钟\n",
    "# ![1723453513516.png](attachment:37a614f5-6632-4af0-8f23-63a5e33c9bf3.png)\n",
    "## 注意lmx命名规则为LMXA2594_freq.txt"
   ]
  },
  {
   "cell_type": "markdown",
   "id": "4672f297-b579-4607-af32-b845d874259d",
   "metadata": {},
   "source": [
    "## step 0: 引用必要的库"
   ]
  },
  {
   "cell_type": "code",
   "execution_count": 1,
   "id": "cd89f778-db51-48d7-b05d-c747c39d5e08",
   "metadata": {},
   "outputs": [],
   "source": [
    "import os\n",
    "import xrfclk "
   ]
  },
  {
   "cell_type": "markdown",
   "id": "4a9a06d2-bf5f-4c24-8653-565c0d456347",
   "metadata": {},
   "source": [
    "## step 1: 使用xrfclk的_find_devices() 方法找到系统的lmk,lmx设备"
   ]
  },
  {
   "cell_type": "code",
   "execution_count": 2,
   "id": "8d57c3ea-1d09-46ab-a498-de17bdef80e0",
   "metadata": {},
   "outputs": [],
   "source": [
    "def find_lmclk_devices():\n",
    "    xrfclk.xrfclk._find_devices()\n",
    "find_lmclk_devices()"
   ]
  },
  {
   "cell_type": "code",
   "execution_count": 3,
   "id": "4d54f6a2-dbaa-48ed-8bf7-d6e66d2033a1",
   "metadata": {},
   "outputs": [
    {
     "data": {
      "text/plain": [
       "[{'spi_device': PosixPath('/dev/spidev1.1'),\n",
       "  'compatible': 'lmk04208',\n",
       "  'num_bytes': 4}]"
      ]
     },
     "execution_count": 3,
     "metadata": {},
     "output_type": "execute_result"
    }
   ],
   "source": [
    "xrfclk.lmk_devices"
   ]
  },
  {
   "cell_type": "code",
   "execution_count": 4,
   "id": "988d6c83-b2c2-4550-a255-133c1bd37d3d",
   "metadata": {},
   "outputs": [
    {
     "data": {
      "text/plain": [
       "[{'spi_device': PosixPath('/dev/spidev1.3'), 'compatible': 'lmx2594'},\n",
       " {'spi_device': PosixPath('/dev/spidev1.2'), 'compatible': 'lmx2594'},\n",
       " {'spi_device': PosixPath('/dev/spidev1.0'), 'compatible': 'lmx2594'}]"
      ]
     },
     "execution_count": 4,
     "metadata": {},
     "output_type": "execute_result"
    }
   ],
   "source": [
    "xrfclk.lmx_devices"
   ]
  },
  {
   "cell_type": "markdown",
   "id": "c2e10ee7-26aa-4a89-93fc-974dac154143",
   "metadata": {},
   "source": [
    "## step 2: 指定一个存储有时钟配置文件的位置，通常时钟配置文件放置在以lmk命名的文件夹里\n",
    "### 例如时钟配置文件放置在 pynq/xrfclk/"
   ]
  },
  {
   "cell_type": "code",
   "execution_count": 5,
   "id": "d515b4cb-5a46-4ccd-b56d-9871da244c1a",
   "metadata": {},
   "outputs": [],
   "source": [
    "loc = '/usr/local/share/pynq-venv/lib/python3.10/site-packages/pynq/xrfclk/'"
   ]
  },
  {
   "cell_type": "markdown",
   "id": "fa0a0c34-9ede-4e55-bbac-1e085865c6b0",
   "metadata": {},
   "source": [
    "## step 3: 通常存在一个lmk，一至三个lmx"
   ]
  },
  {
   "cell_type": "code",
   "execution_count": 6,
   "id": "a144b37a-e73d-4d73-9bab-5df5d8d539b3",
   "metadata": {},
   "outputs": [],
   "source": [
    "lmclk_loc = '' # 目录字符串\n",
    "lmk_loc = ''   # 含文件名的完整路径字符串\n",
    "lmx_locs = []  # 多个完整路径字符串列表"
   ]
  },
  {
   "cell_type": "markdown",
   "id": "2a4b1701-e7eb-45eb-b02f-c9f0a5fabfa0",
   "metadata": {},
   "source": [
    "## step 4: 确定存在时钟配置txt文件的文件夹"
   ]
  },
  {
   "cell_type": "code",
   "execution_count": 7,
   "id": "b3c31ee7-84ac-4542-80cf-c3c52a315997",
   "metadata": {},
   "outputs": [],
   "source": [
    "for root, dirs, files in os.walk(loc):\n",
    "        for d in dirs:\n",
    "            for lmk in xrfclk.lmk_devices:\n",
    "                if d == lmk['compatible']:\n",
    "                    lmclk_loc = os.path.join(root, d)\n",
    "                    break"
   ]
  },
  {
   "cell_type": "code",
   "execution_count": 8,
   "id": "7af697b7-ea65-40ae-ae56-c173a9abe6d2",
   "metadata": {},
   "outputs": [
    {
     "data": {
      "text/plain": [
       "'/usr/local/share/pynq-venv/lib/python3.10/site-packages/pynq/xrfclk/lmk04208'"
      ]
     },
     "execution_count": 8,
     "metadata": {},
     "output_type": "execute_result"
    }
   ],
   "source": [
    "lmclk_loc"
   ]
  },
  {
   "cell_type": "markdown",
   "id": "a0a3bda3-25c5-4d31-8169-5673448001fc",
   "metadata": {},
   "source": [
    "## step 5: 存储所有lmk, lmx文件"
   ]
  },
  {
   "cell_type": "code",
   "execution_count": 9,
   "id": "16fc3cb8-216f-4274-843c-8c9c7bc4960a",
   "metadata": {},
   "outputs": [],
   "source": [
    "for file in os.listdir(lmclk_loc):\n",
    "        if file.endswith('.txt'):\n",
    "            if 'LMK' in file:\n",
    "                lmk_loc = os.path.join(lmclk_loc, file)\n",
    "            elif 'LMX' in file:\n",
    "                lmx_locs.append(os.path.join(lmclk_loc, file))\n",
    "lmx_locs.sort()"
   ]
  },
  {
   "cell_type": "code",
   "execution_count": 10,
   "id": "05d51cdc-9b0c-43c0-88af-999c01155047",
   "metadata": {},
   "outputs": [
    {
     "data": {
      "text/plain": [
       "'/usr/local/share/pynq-venv/lib/python3.10/site-packages/pynq/xrfclk/lmk04208/LMK04208_122.88.txt'"
      ]
     },
     "execution_count": 10,
     "metadata": {},
     "output_type": "execute_result"
    }
   ],
   "source": [
    "lmk_loc"
   ]
  },
  {
   "cell_type": "code",
   "execution_count": 11,
   "id": "51b9e303-0a42-4a02-ba29-41bdcd4b75a6",
   "metadata": {},
   "outputs": [
    {
     "data": {
      "text/plain": [
       "['/usr/local/share/pynq-venv/lib/python3.10/site-packages/pynq/xrfclk/lmk04208/LMXA2594_409.6.txt',\n",
       " '/usr/local/share/pynq-venv/lib/python3.10/site-packages/pynq/xrfclk/lmk04208/LMXB2594_200.0.txt',\n",
       " '/usr/local/share/pynq-venv/lib/python3.10/site-packages/pynq/xrfclk/lmk04208/LMXC2594_245.76.txt']"
      ]
     },
     "execution_count": 11,
     "metadata": {},
     "output_type": "execute_result"
    }
   ],
   "source": [
    "lmx_locs"
   ]
  },
  {
   "cell_type": "markdown",
   "id": "9a305ec0-59c2-4715-a053-0750582c3ce0",
   "metadata": {},
   "source": [
    "## step 6: 存储lmk名称和频率值（MHz）和配置寄存器数据"
   ]
  },
  {
   "cell_type": "code",
   "execution_count": 12,
   "id": "144ad313-634d-4c59-9678-ab01a9659da3",
   "metadata": {},
   "outputs": [],
   "source": [
    "lmk_name = lmk_loc.split('/')[-1]\n",
    "lmk = lmk_name.strip('.txt').split('_')\n",
    "\n",
    "with open(lmk_loc, 'r') as file:\n",
    "        reg = [line.rstrip(\"\\n\") for line in file]\n",
    "        lmk_reg = [int(r.split('\\t')[-1], 16) for r in reg]"
   ]
  },
  {
   "cell_type": "markdown",
   "id": "162d8e2b-1b55-4b44-a7b0-2e2843b05bcc",
   "metadata": {},
   "source": [
    "## step 7: 构建clk_props字典,仅lmk"
   ]
  },
  {
   "cell_type": "code",
   "execution_count": 13,
   "id": "9cd62b3c-b93b-4522-bef0-bccd8e17bf15",
   "metadata": {},
   "outputs": [],
   "source": [
    "clk_props = {\n",
    "    'lmk': {\n",
    "        'file': lmk_name,\n",
    "        'loc':  lmk_loc,\n",
    "        'chip': lmk[0],\n",
    "        'freq': lmk[1],\n",
    "        'reg':  lmk_reg\n",
    "    }\n",
    "}"
   ]
  },
  {
   "cell_type": "markdown",
   "id": "2816826d-f8fc-43af-9733-8b9d6aa96585",
   "metadata": {},
   "source": [
    "## step 8: 存储所有lmx的名称，频率值，各存储器数据"
   ]
  },
  {
   "cell_type": "code",
   "execution_count": 14,
   "id": "9429623d-5eb6-4ca5-9111-91446496c4cd",
   "metadata": {
    "tags": []
   },
   "outputs": [],
   "source": [
    "lmxs = []\n",
    "lmxs_reg = []\n",
    "for lmx in lmx_locs:\n",
    "    temp = lmx.split('/')[-1]\n",
    "    lmx_split = temp.strip('.txt').split('_')\n",
    "    lmxs.append(lmx_split)\n",
    "    with open(lmx, 'r') as file:\n",
    "        reg = [line.rstrip(\"\\n\") for line in file]\n",
    "        lmxs_reg.append([int(r.split('\\t')[-1], 16) for r in reg])"
   ]
  },
  {
   "cell_type": "markdown",
   "id": "30103664-9928-438b-af01-15a44cef4897",
   "metadata": {},
   "source": [
    "## step 9: 扩展clk_props字典，lmx关键字段用LMXA2594类似表示"
   ]
  },
  {
   "cell_type": "code",
   "execution_count": 15,
   "id": "de044bd7-442a-49ea-b6b7-bf08289603dd",
   "metadata": {},
   "outputs": [],
   "source": [
    "for i in range(len(lmxs)):\n",
    "    clk_props.update(\n",
    "        {lmxs[i][0]: {                 # LMXA2594\n",
    "            'file': lmxs[i][0],        # LMXA2594\n",
    "            'loc' : lmx_locs[i],       # /usr/local/share/pynq-venv/lib/python3.10/site-packages/pynq/xrfclk/lmk04208/LMXA2594_409.6.txt\n",
    "            'chip': lmxs[i][0],        # LMXA2594\n",
    "            'freq': lmxs[i][1],        # 409.6\n",
    "            'reg' : lmxs_reg[i]        # 各寄存器数据\n",
    "        }\n",
    "        }\n",
    "    )"
   ]
  },
  {
   "cell_type": "markdown",
   "id": "3b4e6a13-5973-4477-aedc-573f2b1f1b57",
   "metadata": {},
   "source": [
    "## step 10: 配置lmk"
   ]
  },
  {
   "cell_type": "code",
   "execution_count": 16,
   "id": "800dc906-835c-4b64-a2b3-55228180726c",
   "metadata": {},
   "outputs": [],
   "source": [
    "for lmk in xrfclk.lmk_devices:\n",
    "    xrfclk.xrfclk._write_LMK_regs(clk_props['lmk']['reg'], lmk)"
   ]
  },
  {
   "cell_type": "markdown",
   "id": "3f45d059-c8df-49ec-856a-7d442e013c35",
   "metadata": {},
   "source": [
    "## step 11: 配置lmxs"
   ]
  },
  {
   "cell_type": "code",
   "execution_count": 18,
   "id": "696e6a68-6899-47fb-8c5f-dd731d62f4b3",
   "metadata": {},
   "outputs": [],
   "source": [
    "for i in range(len(lmxs)):\n",
    "    xrfclk.xrfclk._write_LMX_regs(clk_props[lmxs[i][0]]['reg'], xrfclk.lmx_devices[i])"
   ]
  },
  {
   "cell_type": "code",
   "execution_count": null,
   "id": "995452ab-a483-4730-bb17-32678293a985",
   "metadata": {},
   "outputs": [],
   "source": []
  }
 ],
 "metadata": {
  "kernelspec": {
   "display_name": "Python 3 (ipykernel)",
   "language": "python",
   "name": "python3"
  },
  "language_info": {
   "codemirror_mode": {
    "name": "ipython",
    "version": 3
   },
   "file_extension": ".py",
   "mimetype": "text/x-python",
   "name": "python",
   "nbconvert_exporter": "python",
   "pygments_lexer": "ipython3",
   "version": "3.10.4"
  }
 },
 "nbformat": 4,
 "nbformat_minor": 5
}
